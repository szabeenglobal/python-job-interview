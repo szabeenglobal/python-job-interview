{
 "cells": [
  {
   "cell_type": "markdown",
   "metadata": {},
   "source": [
    "# Python interview questions 2022\n",
    "\n",
    "<br>\n",
    "Suraiya Zabeen\n",
    "<br>\n",
    "suraiya@flourishing-life.co.uk\n",
    "<br>\n",
    "<br>\n"
   ]
  },
  {
   "cell_type": "markdown",
   "metadata": {},
   "source": [
    "## Question 1: What are the differences between Lists and Tuples?\n",
    "List | Tuple\n",
    "|:----------|:---------\n",
    "| Lists are mutable |\tTuples are immutable|\n",
    "|Syntax : listA = [1, 2, 3, \"Suraiya\", \"Well-being\", 7]| Syntax: tupleA = (1, 2, 3, \"Suraiya\", \"Well-being\", 7)\n",
    "| Implication of iterations is Time-consuming |\tThe implication of iterations is comparatively Faster|\n",
    "| The list is better for performing operations, such as insertion and deletion. |\tTuple data type is appropriate for accessing the elements|\n",
    "|Lists consume more memory\t| Tuple consume less memory as compared to the list|\n",
    "|Lists have several built-in methods|\tTuple does not have many built-in methods. The unexpected changes and errors are more likely to occur\tIn tuple, it is hard to take place|"
   ]
  },
  {
   "cell_type": "code",
   "execution_count": 6,
   "metadata": {},
   "outputs": [
    {
     "name": "stdout",
     "output_type": "stream",
     "text": [
      "(1, 2, 3, 'Suraiya', 'Well-being', 7)\n"
     ]
    }
   ],
   "source": [
    "tupleA = (1, 2, 3, \"Suraiya\", \"Well-being\", 7)\n",
    "print(tupleA)"
   ]
  },
  {
   "cell_type": "markdown",
   "metadata": {},
   "source": [
    "## Question 2: What are inbuilt datatypes in python. Give examples of mutable and immutable data types in Python "
   ]
  },
  {
   "cell_type": "markdown",
   "metadata": {},
   "source": [
    "List | Tuple\n",
    "|:----------|:---------\n",
    "|Text Type:|\tstr|\n",
    "|Numeric Types: |\tint, float, complex|\n",
    "|Sequence Types:|\tlist (mutable), tuple, range|\n",
    "|Mapping Type:|\tdict (mutable)|\n",
    "|Set Types:\t|set (mutable), frozenset||\n",
    "|Boolean Type:|\tbool|\n",
    "|Binary Types:\t|bytes, bytearray, memoryview|"
   ]
  },
  {
   "cell_type": "code",
   "execution_count": null,
   "metadata": {},
   "outputs": [],
   "source": [
    "    "
   ]
  },
  {
   "cell_type": "markdown",
   "metadata": {},
   "source": [
    "## Question 3: What are the differences between List and dict comprehensions?"
   ]
  },
  {
   "cell_type": "markdown",
   "metadata": {},
   "source": [
    "Python comprehensions, like decorators, are syntactic sugar constructs that help build altered and filtered lists, dictionaries, or sets from a given list, dictionary, or set. Using comprehensions saves a lot of time and code that might be considerably more verbose (containing more lines of code). Let's check out some examples, where comprehensions can be truly beneficial:"
   ]
  },
  {
   "cell_type": "code",
   "execution_count": 10,
   "metadata": {},
   "outputs": [
    {
     "name": "stdout",
     "output_type": "stream",
     "text": [
      "['Hello Alex', 'Hello Brian', 'Hello Charles', 'Hello David', 'Hello Erica']\n"
     ]
    }
   ],
   "source": [
    "my_list = ['Alex', 'Brian', 'Charles', 'David', 'Erica']\n",
    "com_list = ['Hello ' + x for x in my_list] #list Complehension\n",
    "print(com_list)"
   ]
  },
  {
   "cell_type": "code",
   "execution_count": 14,
   "metadata": {},
   "outputs": [
    {
     "name": "stdout",
     "output_type": "stream",
     "text": [
      "{10: 100, 20: 400, 30: 900, 40: 1600, 50: 2500, 60: 3600}\n"
     ]
    }
   ],
   "source": [
    "a=[10, 20, 30, 40, 50, 60]\n",
    "com_dict = { x:x*x for x in a }\n",
    "print(com_dict)\n"
   ]
  },
  {
   "cell_type": "markdown",
   "metadata": {},
   "source": [
    "## Question 4: What are the differences between generators and iterators\n",
    "\n",
    "Generator | Iterator\n",
    "|:----------|:---------\n",
    "|In creating a python generator, we use a function.| But in creating an iterator in python, we use the iter() and next() functions.|\n",
    "A generator in python makes use of the ‘yield’ keyword. | A python iterator doesn’t.\n",
    "Python generator saves the states of the local variables every time ‘yield’ pauses the loop in python. |An iterator does not make use of local variables, all it needs is iterable to iterate on.\n",
    "A generator may have any number of ‘yield’ statements.\n",
    "|You can implement your own iterator using a python class; a generator does not need a class in python.\n",
    "To write a python generator, you can either use a Python function or a comprehension. |But for an iterator, you must use the iter() and next() functions.\n",
    "|Generator in python let us write fast and compact code. This is an advantage over Python iterators. They are also simpler to code than do custom iterator.|\n",
    "Python iterator is more memory-efficient. Lest see this with example below:"
   ]
  },
  {
   "cell_type": "code",
   "execution_count": null,
   "metadata": {},
   "outputs": [],
   "source": [
    "Example"
   ]
  },
  {
   "cell_type": "markdown",
   "metadata": {},
   "source": [
    "## Question 5: What is init keyword in python?\n",
    "____init__.py File <br>\n",
    "____init__()  Function \n",
    "\n",
    "__init__ is a contructor method in Python and is automatically called to allocate memory when a new object/instance is created. All classes have a __init__ method associated with them. It helps in distinguishing methods and attributes of a class from local variables."
   ]
  },
  {
   "cell_type": "code",
   "execution_count": 19,
   "metadata": {},
   "outputs": [
    {
     "name": "stdout",
     "output_type": "stream",
     "text": [
      "<__main__.Emotion object at 0x10a07ed10>\n"
     ]
    }
   ],
   "source": [
    "class Emotion:\n",
    "    def __init__(self, happy, sad, angry):\n",
    "        self.happy = happy\n",
    "        self.sad = sad\n",
    "        self.angry = angry\n",
    "\n",
    "#creating a new object of the class emotion \n",
    "\n",
    "emotion1= Emotion(\"Joy\", \"Blue\", \"Raging\")\n",
    "print(emotion1)\n"
   ]
  },
  {
   "cell_type": "markdown",
   "metadata": {},
   "source": [
    "## Question 6: What is the difference between range and Xrange\n",
    "\n",
    "They both generate a sequence of integers, with the only difference that range() returns a Python list, whereas, xrange() returns an xrange generator object. range takes more memory, execution speed is slower. Since range returns list-all arithmatic operations are possible. "
   ]
  },
  {
   "cell_type": "code",
   "execution_count": 24,
   "metadata": {},
   "outputs": [
    {
     "name": "stdout",
     "output_type": "stream",
     "text": [
      "[0, 1, 2, 3, 4, 5, 6, 7, 8, 9]\n"
     ]
    },
    {
     "ename": "NameError",
     "evalue": "name 'xrange' is not defined",
     "output_type": "error",
     "traceback": [
      "\u001b[0;31m---------------------------------------------------------------------------\u001b[0m",
      "\u001b[0;31mNameError\u001b[0m                                 Traceback (most recent call last)",
      "\u001b[0;32m<ipython-input-24-50b896b76d2a>\u001b[0m in \u001b[0;36m<module>\u001b[0;34m\u001b[0m\n\u001b[1;32m      5\u001b[0m \u001b[0mprint\u001b[0m\u001b[0;34m(\u001b[0m\u001b[0ma\u001b[0m\u001b[0;34m)\u001b[0m\u001b[0;34m\u001b[0m\u001b[0;34m\u001b[0m\u001b[0m\n\u001b[1;32m      6\u001b[0m \u001b[0;34m\u001b[0m\u001b[0m\n\u001b[0;32m----> 7\u001b[0;31m \u001b[0;32mfor\u001b[0m \u001b[0mi\u001b[0m \u001b[0;32min\u001b[0m \u001b[0mxrange\u001b[0m\u001b[0;34m(\u001b[0m\u001b[0;36m10\u001b[0m\u001b[0;34m)\u001b[0m\u001b[0;34m:\u001b[0m\u001b[0;34m\u001b[0m\u001b[0;34m\u001b[0m\u001b[0m\n\u001b[0m\u001b[1;32m      8\u001b[0m     \u001b[0mb\u001b[0m\u001b[0;34m.\u001b[0m\u001b[0mappend\u001b[0m\u001b[0;34m(\u001b[0m\u001b[0mi\u001b[0m\u001b[0;34m)\u001b[0m\u001b[0;34m\u001b[0m\u001b[0;34m\u001b[0m\u001b[0m\n\u001b[1;32m      9\u001b[0m \u001b[0mprint\u001b[0m\u001b[0;34m(\u001b[0m\u001b[0mb\u001b[0m\u001b[0;34m)\u001b[0m\u001b[0;34m\u001b[0m\u001b[0;34m\u001b[0m\u001b[0m\n",
      "\u001b[0;31mNameError\u001b[0m: name 'xrange' is not defined"
     ]
    }
   ],
   "source": [
    "a = []\n",
    "b= []\n",
    "for i in range(10):\n",
    "    a.append(i)    \n",
    "print(a)\n",
    "\n",
    "for i in xrange(10): #there is no xrange in python3 \n",
    "    b.append(i)    \n",
    "print(b)"
   ]
  },
  {
   "cell_type": "markdown",
   "metadata": {},
   "source": [
    "## Question 7: What is the difference between module and package?"
   ]
  },
  {
   "cell_type": "code",
   "execution_count": 26,
   "metadata": {},
   "outputs": [
    {
     "name": "stdout",
     "output_type": "stream",
     "text": [
      "10\n"
     ]
    }
   ],
   "source": []
  },
  {
   "cell_type": "markdown",
   "metadata": {},
   "source": [
    "## Question 8: What is the difference between Python Arrays and lists?\n",
    "Arrays in python can only contain elements of same data types i.e., data type of array should be homogeneous. It is a thin wrapper around C language arrays and consumes far less memory than lists.\n",
    "Lists in python can contain elements of different data types i.e., data type of lists can be heterogeneous. It has the disadvantage of consuming large memory."
   ]
  },
  {
   "cell_type": "code",
   "execution_count": 29,
   "metadata": {},
   "outputs": [
    {
     "name": "stdout",
     "output_type": "stream",
     "text": [
      "['happy' 'sad' 'angry' 'excited']\n",
      "['happy' 'sad' 'angry' 'excited' '100']\n",
      "<class 'numpy.ndarray'>\n"
     ]
    }
   ],
   "source": [
    "import numpy as np\n",
    "\n",
    "arr1 = np.array(['happy', 'sad', 'angry', 'excited'])\n",
    "arr2= np.array(['happy', 'sad', 'angry', 'excited', 100])\n",
    "print(arr1)\n",
    "print(arr2) #numpy converted 100 into a string datatype, see the output\n",
    "\n",
    "print(type(arr1))\n"
   ]
  },
  {
   "cell_type": "markdown",
   "metadata": {},
   "source": [
    "## Question 9: How memory is managed in python?\n",
    "\n",
    "Memory management in Python is handled by the **Python Memory Manager**. The memory allocated by the manager is in the form of a private heap space dedicated to Python. All Python objects are stored in this heap and being private, it is NOT accessible to the programmer. \n",
    "Additionally, Python has an in-built garbage collection to recycle the unused memory for the private heap space."
   ]
  },
  {
   "cell_type": "markdown",
   "metadata": {},
   "source": [
    "## Question 10: What are decorators in Python?"
   ]
  },
  {
   "cell_type": "markdown",
   "metadata": {},
   "source": [
    "Decorators in Python are essentially functions that add functionality to an existing function in Python without changing the structure of the function itself. They are represented the @decorator_name in Python and are called in a bottom-up fashion"
   ]
  },
  {
   "cell_type": "code",
   "execution_count": 32,
   "metadata": {},
   "outputs": [
    {
     "data": {
      "text/plain": [
       "'Happy World'"
      ]
     },
     "execution_count": 32,
     "metadata": {},
     "output_type": "execute_result"
    }
   ],
   "source": [
    "def titlecase_decorator(function):\n",
    "    def wrapper():\n",
    "        func = function()\n",
    "        make_titlecase = func.title()\n",
    "        return make_titlecase\n",
    "\n",
    "    return wrapper\n",
    "def dec():\n",
    "    return 'happy world'\n",
    "\n",
    "decorate = titlecase_decorator(dec)\n",
    "decorate()"
   ]
  },
  {
   "cell_type": "markdown",
   "metadata": {},
   "source": [
    "## Question 11: What are the differences between generators and iterators\n",
    "\n",
    "Generator | Iterator\n",
    "|:----------|:---------\n",
    "|In creating a python generator, we use a function.| But in creating an iterator in python, we use the iter() and next() functions.|\n",
    "A generator in python makes use of the ‘yield’ keyword. | A python iterator doesn’t.\n",
    "Python generator saves the states of the local variables every time ‘yield’ pauses the loop in python. |An iterator does not make use of local variables, all it needs is iterable to iterate on.\n",
    "A generator may have any number of ‘yield’ statements.\n",
    "|You can implement your own iterator using a python class; a generator does not need a class in python.\n",
    "To write a python generator, you can either use a Python function or a comprehension. |But for an iterator, you must use the iter() and next() functions.\n",
    "|Generator in python let us write fast and compact code. This is an advantage over Python iterators. They are also simpler to code than do custom iterator.|\n",
    "Python iterator is more memory-efficient. Lest see this with example below:"
   ]
  },
  {
   "cell_type": "markdown",
   "metadata": {},
   "source": [
    " ## Question 12: What is the use of self in Python?\n",
    "Self is used to represent the instance of the class. With this keyword,  the attributes and methods of the class can be accessed. It binds the attributes with the given arguments. self is used in different places and often thought to be a keyword. But unlike in C++, self is not a keyword in Python.\n"
   ]
  },
  {
   "cell_type": "markdown",
   "metadata": {},
   "source": [
    "## Question 13:  What is lambda in Python? Why is it used?\n",
    "Lambda is an anonymous function in Python, that can accept any number of arguments, but can only have a single expression. It is generally used in situations requiring an anonymous function for a short time period. Lambda functions can be used in either of the two ways:\n",
    "\n",
    "Assigning lambda functions to a variable:"
   ]
  },
  {
   "cell_type": "code",
   "execution_count": 1,
   "metadata": {},
   "outputs": [
    {
     "name": "stdout",
     "output_type": "stream",
     "text": [
      "10\n"
     ]
    }
   ],
   "source": [
    "st = lambda a, b : a +b*a\n",
    "print(st(2, 4))"
   ]
  },
  {
   "cell_type": "markdown",
   "metadata": {},
   "source": [
    " ## Question 14 What does *args and **kwargs mean?\n",
    " <br>\n",
    "When it is not clear how many arguments need to be passed to a particular function, then  *args and **kwargs  are used <br>\n",
    "*args is a special syntax used in the function definition to pass variable-length arguments. <br>\n",
    "*args is a special syntax used in the function definition to pass variable-length keyword arguments."
   ]
  },
  {
   "cell_type": "code",
   "execution_count": 2,
   "metadata": {},
   "outputs": [
    {
     "name": "stdout",
     "output_type": "stream",
     "text": [
      "6\n",
      "{'id1': 'Alex', 'id2': 'Brian', 'id3': 'Charles'}\n"
     ]
    }
   ],
   "source": [
    "def mult (*args ):\n",
    "    res = 1\n",
    "    for a in args:\n",
    "        res *=a\n",
    "    return res\n",
    "\n",
    "print(mult(2, 3))\n",
    "\n",
    "def show(**kwargs):\n",
    "    print(kwargs)\n",
    "show(id1= \"Alex\", id2='Brian', id3 = 'Charles')"
   ]
  },
  {
   "cell_type": "markdown",
   "metadata": {},
   "source": [
    " ## Question 15 What is the difference between local and global variable? \n",
    "\n",
    " Local variable: Any variable declared inside a function is known as Local variable and it’s accessibility remains inside that function only.\n",
    "\n",
    "Global Variable: Any variable declared outside the function is known as Global variable and it can be easily accessible by any function present throughout the program.\n",
    " "
   ]
  },
  {
   "cell_type": "markdown",
   "metadata": {},
   "source": [
    "## Question 16"
   ]
  },
  {
   "cell_type": "markdown",
   "metadata": {},
   "source": [
    "## Question 17"
   ]
  },
  {
   "cell_type": "markdown",
   "metadata": {},
   "source": []
  },
  {
   "cell_type": "markdown",
   "metadata": {},
   "source": [
    "# Object Oriented Programming "
   ]
  },
  {
   "cell_type": "markdown",
   "metadata": {},
   "source": [
    " ## Question : Explain basic concepts of OOPS?\n",
    "<br>\n",
    " Following are the concepts of OOPS:\n",
    "<br>\n",
    "**Abstraction:** Data Abstraction is providing only the required details and hiding the implementation from the world. It can be achieved in Python by using interfaces and abstract classes.\n",
    "<br>\n",
    "**Encapsulation:** Encapsulation means binding the code and the data together. A Python class in an example of encapsulation.\n",
    "<br>\n",
    "**Polymorphism:** Polymorphism means the ability to take multiple forms. So, for instance, if the parent class has a method named ABC then the child class also can have a method with the same name ABC having its own parameters and variables. Python allows polymorphism.\n",
    "<br>\n",
    "*Inheritance:* Inheritance allows One class to gain all the members(say attributes and methods) of another class. Inheritance provides code reusability, makes it easier to create and maintain an application. The class from which we are inheriting is called super-class and the class that is inherited is called a derived / child class.\n"
   ]
  },
  {
   "cell_type": "markdown",
   "metadata": {},
   "source": [
    "## Question 18 What is inheritance ? \n",
    "\n",
    "Python child classes can inherit the properties and methods of a parent class. \n",
    "In Python the child class can inherit the parent class by just mentioning the name of the parent class in the bracket after the child class name. \n",
    "Check the example below:"
   ]
  },
  {
   "cell_type": "code",
   "execution_count": 4,
   "metadata": {},
   "outputs": [
    {
     "name": "stdout",
     "output_type": "stream",
     "text": [
      "Show Happy World\n",
      "Display Happy World\n"
     ]
    }
   ],
   "source": [
    "class Parent_Class(): \n",
    "    def display(self):\n",
    "        print(\"Display Happy World\")\n",
    "class Child_Class(Parent_Class):\n",
    "    def show(self):\n",
    "        print(\"Show Happy World\")\n",
    "\n",
    "child_class_object = Child_Class()\n",
    "\n",
    "child_class_object.display()\n",
    "child_class_object.show()\n"
   ]
  },
  {
   "cell_type": "markdown",
   "metadata": {},
   "source": [
    "## Types of inheritance\n",
    "**Single inheritance:** When a class inherits only one superclass\n",
    "**Multiple inheritance:** When a class inherits multiple superclasses\n",
    "**Multilevel inheritance:** When a class inherits a superclass, and then another class inherits this derived class forming a ‘parent, child, and grandchild’ class structure\n",
    "Hierarchical inheritance: When one superclass is inherited by multiple derived classes"
   ]
  },
  {
   "cell_type": "markdown",
   "metadata": {},
   "source": [
    "<img src =\"Python-inheritance.png\">\n"
   ]
  },
  {
   "cell_type": "markdown",
   "metadata": {},
   "source": [
    "## Question: SOLID Principles "
   ]
  },
  {
   "cell_type": "markdown",
   "metadata": {},
   "source": [
    "SRP: Single Responsibility Principle – a class should have only a single responsibility (i.e. only one potential change in the software’s specification should be able to affect the specification of the class)\n",
    "<br>\n",
    "<br>\n",
    "OCP: Open/Closed Principle – software entities should be open for extension, but closed for modification\n",
    "<br>\n",
    "<br>\n",
    "LSP: Liskov Substitution Principle – objects in a program should be replaceable with instances of their subtypes without altering the correctness of that program\n",
    "<br>\n",
    "<br>\n",
    "ISP: Interface Segregation Principle – many client-specific interfaces are better than one general-purpose interface\n",
    "<br>\n",
    "<br>\n",
    "DIP: Dependency Inversion Principle – one should Not Depend upon Abstractions. Do not depend upon concretions\n"
   ]
  },
  {
   "cell_type": "code",
   "execution_count": null,
   "metadata": {},
   "outputs": [],
   "source": []
  }
 ],
 "metadata": {
  "kernelspec": {
   "display_name": "fastai",
   "language": "python",
   "name": "fastai"
  },
  "language_info": {
   "codemirror_mode": {
    "name": "ipython",
    "version": 3
   },
   "file_extension": ".py",
   "mimetype": "text/x-python",
   "name": "python",
   "nbconvert_exporter": "python",
   "pygments_lexer": "ipython3",
   "version": "3.7.6"
  }
 },
 "nbformat": 4,
 "nbformat_minor": 4
}
